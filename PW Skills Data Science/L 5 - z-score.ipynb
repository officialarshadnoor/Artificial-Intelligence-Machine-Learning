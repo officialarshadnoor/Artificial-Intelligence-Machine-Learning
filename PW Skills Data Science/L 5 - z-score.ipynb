{
 "cells": [
  {
   "cell_type": "code",
   "execution_count": 1,
   "id": "3bb52926-0351-4443-96f5-787f05fe390a",
   "metadata": {},
   "outputs": [
    {
     "name": "stdout",
     "output_type": "stream",
     "text": [
      "Outliers:  [15]\n"
     ]
    }
   ],
   "source": [
    "# finding outliers using z-score\n",
    "\n",
    "\n",
    "import numpy as np\n",
    "\n",
    "data = [1,2,2,2,3,1,1,15,2,2,2,3,1,1,2]\n",
    "\n",
    "mean = np.mean(data)\n",
    "std = np.std(data)\n",
    "\n",
    "thresold = 3 # because after meu-3 all are outliers\n",
    "\n",
    "outliers = []\n",
    "\n",
    "for i in data:\n",
    "    z_score = (i-mean)/std\n",
    "    if np.abs(z_score) > thresold:\n",
    "        outliers.append(i)\n",
    "\n",
    "\n",
    "print(\"Outliers: \", outliers)"
   ]
  }
 ],
 "metadata": {
  "kernelspec": {
   "display_name": "Python 3 (ipykernel)",
   "language": "python",
   "name": "python3"
  },
  "language_info": {
   "codemirror_mode": {
    "name": "ipython",
    "version": 3
   },
   "file_extension": ".py",
   "mimetype": "text/x-python",
   "name": "python",
   "nbconvert_exporter": "python",
   "pygments_lexer": "ipython3",
   "version": "3.11.5"
  }
 },
 "nbformat": 4,
 "nbformat_minor": 5
}
