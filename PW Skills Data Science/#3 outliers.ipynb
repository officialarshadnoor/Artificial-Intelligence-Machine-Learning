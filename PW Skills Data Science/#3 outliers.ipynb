{
 "cells": [
  {
   "cell_type": "code",
   "execution_count": 6,
   "id": "55ab3405-e4af-45f8-9839-5c2c8dca8070",
   "metadata": {},
   "outputs": [
    {
     "name": "stdout",
     "output_type": "stream",
     "text": [
      "sorted data: [-15 -10   1   2   2   3   3   4   5   6   7   8   9  10  11  12  25  30\n",
      "  40  50]\n",
      "median or q2: 6.5\n",
      "q1: 2.75 \n",
      "and q3: 11.25\n",
      "IQR: 8.5\n"
     ]
    }
   ],
   "source": [
    "# this is for finding the outliers\n",
    "\n",
    "data = [7, 3, 6, 8, 10, 2, 5, 4, 9, 1, 2, 3, 11, 12, -10, -15, 25, 30, 40, 50]\n",
    "\n",
    "# step 1: sorting\n",
    "import numpy as np\n",
    "\n",
    "x = np.sort(data)\n",
    "print(f'sorted data: {x}')\n",
    "\n",
    "# step 2 : finding median and also to find q1 and q3\n",
    "\n",
    "### median\n",
    "q2 = np.median(x)\n",
    "print(f'median or q2: {q2}')\n",
    "\n",
    "# calculate the interquartile range (iqr)\n",
    "\n",
    "## here to find out q1 (which is 25%) and q3 (which is 75%) we apply below method\n",
    "q1, q3 = np.percentile(x, [25, 75])\n",
    "\n",
    "print(f'q1: {q1} \\nand q3: {q3}')\n",
    "\n",
    "## now we'll find iqr = q3 - q1\n",
    "iqr = q3 - q1\n",
    "\n",
    "print(f'IQR: {iqr}')"
   ]
  },
  {
   "cell_type": "code",
   "execution_count": 7,
   "id": "3f719c89-50b1-4c8f-984d-24de75ef1f23",
   "metadata": {},
   "outputs": [
    {
     "name": "stdout",
     "output_type": "stream",
     "text": [
      "lower bound: -10.0\n",
      "upper bound: 24.0\n"
     ]
    }
   ],
   "source": [
    "# step 3: finding lower bound and upper bound\n",
    "\n",
    "lower_bound = q1-1.5*iqr\n",
    "upper_bound = q3+1.5*iqr\n",
    "\n",
    "print(f'lower bound: {lower_bound}\\nupper bound: {upper_bound}')"
   ]
  },
  {
   "cell_type": "code",
   "execution_count": 9,
   "id": "d1072a20-32b8-468c-901e-281802503535",
   "metadata": {},
   "outputs": [
    {
     "name": "stdout",
     "output_type": "stream",
     "text": [
      "[-15, 25, 30, 40, 50]\n",
      "[-15, 25, 30, 40, 50]\n"
     ]
    }
   ],
   "source": [
    "## now below -10 will be outliers -> i.e -15\n",
    "## after 24 will be outliers -> i.e 25, 30, 40, 50\n",
    "\n",
    "## let's extract outliers\n",
    "outlier = []\n",
    "for i in x:\n",
    "    if i<lower_bound or i>upper_bound:\n",
    "        outlier.append(i)\n",
    "print(outlier)\n",
    "\n",
    "# another method\n",
    "outliers = [val for val in x if val < lower_bound or val > upper_bound]\n",
    "print(outliers)"
   ]
  },
  {
   "cell_type": "code",
   "execution_count": 12,
   "id": "f4ae9de7-2b05-4430-ae58-66f62e8cf659",
   "metadata": {},
   "outputs": [
    {
     "name": "stdout",
     "output_type": "stream",
     "text": [
      "[-10, 1, 2, 2, 3, 3, 4, 5, 6, 7, 8, 9, 10, 11, 12]\n"
     ]
    }
   ],
   "source": [
    "# remove the outliers from data\n",
    "new_x = [val for val in x if val >= lower_bound and val <= upper_bound]\n",
    "\n",
    "# print new data without outliers\n",
    "print(new_x)"
   ]
  },
  {
   "cell_type": "code",
   "execution_count": 18,
   "id": "456d5188-bff9-4ede-a08d-758db3d2e6ca",
   "metadata": {},
   "outputs": [
    {
     "data": {
      "text/plain": [
       "<Axes: >"
      ]
     },
     "execution_count": 18,
     "metadata": {},
     "output_type": "execute_result"
    },
    {
     "data": {
      "image/png": "[encoded data removed]",
      "text/plain": [
       "<Figure size 640x480 with 1 Axes>"
      ]
     },
     "metadata": {},
     "output_type": "display_data"
    }
   ],
   "source": [
    "import seaborn as sns\n",
    "sns.boxplot(x)"
   ]
  },
  {
   "cell_type": "code",
   "execution_count": 16,
   "id": "72a84db2-d6b6-4537-87db-84525f06dc2f",
   "metadata": {},
   "outputs": [
    {
     "name": "stdout",
     "output_type": "stream",
     "text": [
      "[7, 3, 6, 8, 10, 2, 5, 4, 9, 1, 2, 3, 11, 12, -10, -15, 25, 30, 40, 50]\n",
      "[-15 -10   1   2   2   3   3   4   5   6   7   8   9  10  11  12  25  30\n",
      "  40  50]\n",
      "q1:  2.75\n",
      "q2:  6.5\n",
      "q3:  11.25\n",
      "8.5\n",
      "[-10, 1, 2, 2, 3, 3, 4, 5, 6, 7, 8, 9, 10, 11, 12]\n"
     ]
    }
   ],
   "source": [
    "\n",
    "\n",
    "# let's make a function to process everything and give a dataset without outliers\n",
    "\n",
    "import numpy as np\n",
    "def iqr(data):\n",
    "    # print real data\n",
    "    print(data)\n",
    "    # sort the data\n",
    "    x = np.sort(data)\n",
    "    print(x)\n",
    "\n",
    "    # median\n",
    "    q2 = np.median(x)\n",
    "    # now q1 and q3\n",
    "    q1, q3 = np.percentile(x, [25, 75])\n",
    "    print('q1: ',q1)\n",
    "    print('q2: ',q2)\n",
    "    print('q3: ',q3)\n",
    "\n",
    "    # now iqr\n",
    "    iqr = q3 - q1\n",
    "    print(iqr)\n",
    "\n",
    "    #calculate lower bound and upper bound\n",
    "    lower_bound = q1 - 1.5*iqr\n",
    "    uppper_bound = q3 + 1.5*iqr\n",
    "\n",
    "    # identify the outliers\n",
    "    outliers = [val for val in x if val < lower_bound or val > upper_bound]\n",
    "\n",
    "    #remove outliers and generate new processed data\n",
    "    new_x = [val for val in x if val >= lower_bound and val <= upper_bound]\n",
    "\n",
    "    return new_x\n",
    "\n",
    "\n",
    "data2 = [7, 3, 6, 8, 10, 2, 5, 4, 9, 1, 2, 3, 11, 12, -10, -15, 25, 30, 40, 50]\n",
    "new = iqr(data2)\n",
    "print(new)\n"
   ]
  },
  {
   "cell_type": "code",
   "execution_count": 19,
   "id": "9e492ef2-bc90-484d-b7aa-0ab4db530062",
   "metadata": {},
   "outputs": [
    {
     "data": {
      "text/plain": [
       "<Axes: >"
      ]
     },
     "execution_count": 19,
     "metadata": {},
     "output_type": "execute_result"
    },
    {
     "data": {
      "image/png": "[encoded data removed]",
      "text/plain": [
       "<Figure size 640x480 with 1 Axes>"
      ]
     },
     "metadata": {},
     "output_type": "display_data"
    }
   ],
   "source": [
    "sns.boxplot(new)"
   ]
  },
  {
   "cell_type": "code",
   "execution_count": 3,
   "id": "5aae1192-5c20-4c14-a9b3-1cfdebc4b35b",
   "metadata": {},
   "outputs": [
    {
     "name": "stdout",
     "output_type": "stream",
     "text": [
      "outliers:  [4.4, 4.1, 4.2, 2.0]\n",
      "sepal length:  [3.5, 3.0, 3.2, 3.1, 3.6, 3.9, 3.4, 3.4, 2.9, 3.1, 3.7, 3.4, 3.0, 3.0, 4.0, 3.9, 3.5, 3.8, 3.8, 3.4, 3.7, 3.6, 3.3, 3.4, 3.0, 3.4, 3.5, 3.4, 3.2, 3.1, 3.4, 3.1, 3.2, 3.5, 3.1, 3.0, 3.4, 3.5, 2.3, 3.2, 3.5, 3.8, 3.0, 3.8, 3.2, 3.7, 3.3, 3.2, 3.2, 3.1, 2.3, 2.8, 2.8, 3.3, 2.4, 2.9, 2.7, 3.0, 2.2, 2.9, 2.9, 3.1, 3.0, 2.7, 2.2, 2.5, 3.2, 2.8, 2.5, 2.8, 2.9, 3.0, 2.8, 3.0, 2.9, 2.6, 2.4, 2.4, 2.7, 2.7, 3.0, 3.4, 3.1, 2.3, 3.0, 2.5, 2.6, 3.0, 2.6, 2.3, 2.7, 3.0, 2.9, 2.9, 2.5, 2.8, 3.3, 2.7, 3.0, 2.9, 3.0, 3.0, 2.5, 2.9, 2.5, 3.6, 3.2, 2.7, 3.0, 2.5, 2.8, 3.2, 3.0, 3.8, 2.6, 2.2, 3.2, 2.8, 2.8, 2.7, 3.3, 3.2, 2.8, 3.0, 2.8, 3.0, 2.8, 3.8, 2.8, 2.8, 2.6, 3.0, 3.4, 3.1, 3.0, 3.1, 3.1, 3.1, 2.7, 3.2, 3.3, 3.0, 2.5, 3.0, 3.4, 3.0]\n"
     ]
    }
   ],
   "source": [
    "\n",
    "\n",
    "# now we do the same task with the real world dataset\n",
    "\n",
    "\n",
    "\n",
    "import pandas as pd\n",
    "import numpy as np\n",
    "\n",
    "# load the iris dataset into a pandas dataframe\n",
    "iris = pd.read_csv('https://archive.ics.uci.edu/ml/machine-learning-databases/iris/iris.data',header=None, names=['sepal_length','sepal_width','petal_length','petal_width'])\n",
    "\n",
    "# define the remove_outliers function\n",
    "def remove_outliers(x):\n",
    "    sorted = np.sort(x)\n",
    "    q1, q3 = np.percentile(sorted, [25,75])\n",
    "    iqr = q3-q1\n",
    "    lower_bound=q1-(1.5*iqr)\n",
    "    upper_bound=q3+(1.5*iqr)\n",
    "    outliers = [val for val in x if val < lower_bound or val > upper_bound]\n",
    "    new_x = [val for val in x if val >= lower_bound and val <= upper_bound]\n",
    "    return new_x, outliers\n",
    "\n",
    "# remove outliers from the 'sepal_length' column of the iris dataset\n",
    "new_sepal_length, outliers = remove_outliers(iris['sepal_length'])\n",
    "\n",
    "print('outliers: ', outliers)\n",
    "print('sepal length: ',new_sepal_length)\n"
   ]
  },
  {
   "cell_type": "code",
   "execution_count": 8,
   "id": "f491cfd0-bd0d-408b-90ce-1be103baad18",
   "metadata": {},
   "outputs": [
    {
     "name": "stdout",
     "output_type": "stream",
     "text": [
      "no of removed outliers:  13\n",
      "new age:  [22.0, 38.0, 26.0, 35.0, 35.0, 27.0, 54.0, 2.0, 27.0, 14.0, 4.0, 58.0, 20.0, 39.0, 14.0, 55.0, 2.0, 23.0, 31.0, 22.0, 35.0, 34.0, 15.0, 28.0, 8.0, 38.0, 26.0, 19.0, 24.0, 23.0, 40.0, 48.0, 18.0, 28.0, 42.0, 18.0, 21.0, 18.0, 14.0, 40.0, 27.0, 3.0, 19.0, 30.0, 20.0, 27.0, 16.0, 18.0, 7.0, 21.0, 49.0, 29.0, 46.0, 21.0, 28.5, 5.0, 11.0, 22.0, 38.0, 45.0, 4.0, 64.0, 7.0, 29.0, 19.0, 17.0, 26.0, 32.0, 16.0, 21.0, 26.0, 32.0, 25.0, 23.0, 28.0, 0.83, 30.0, 22.0, 29.0, 31.0, 28.0, 17.0, 33.0, 16.0, 20.0, 23.0, 24.0, 29.0, 20.0, 46.0, 26.0, 59.0, 22.0, 23.0, 34.0, 34.0, 28.0, 29.0, 21.0, 33.0, 37.0, 28.0, 21.0, 29.0, 38.0, 28.0, 47.0, 14.5, 22.0, 20.0, 17.0, 21.0, 29.0, 24.0, 2.0, 21.0, 19.0, 32.5, 32.5, 54.0, 12.0, 19.0, 24.0, 2.0, 45.0, 33.0, 20.0, 47.0, 29.0, 25.0, 23.0, 19.0, 37.0, 16.0, 24.0, 40.0, 22.0, 24.0, 19.0, 18.0, 19.0, 27.0, 9.0, 36.5, 42.0, 51.0, 22.0, 55.5, 40.5, 27.0, 51.0, 16.0, 30.0, 37.0, 5.0, 44.0, 40.0, 26.0, 17.0, 1.0, 9.0, 48.0, 45.0, 60.0, 28.0, 61.0, 4.0, 1.0, 21.0, 56.0, 18.0, 5.0, 50.0, 30.0, 36.0, 8.0, 39.0, 9.0, 1.0, 4.0, 39.0, 26.0, 45.0, 40.0, 36.0, 32.0, 19.0, 19.0, 3.0, 44.0, 58.0, 28.0, 42.0, 21.0, 24.0, 28.0, 17.0, 34.0, 45.5, 18.0, 2.0, 32.0, 26.0, 16.0, 40.0, 24.0, 35.0, 22.0, 30.0, 22.0, 31.0, 27.0, 42.0, 32.0, 30.0, 16.0, 27.0, 51.0, 22.0, 38.0, 22.0, 19.0, 20.5, 18.0, 12.0, 35.0, 29.0, 59.0, 5.0, 24.0, 21.0, 44.0, 8.0, 19.0, 33.0, 19.0, 18.0, 29.0, 22.0, 30.0, 44.0, 25.0, 24.0, 37.0, 54.0, 18.0, 29.0, 62.0, 30.0, 41.0, 29.0, 38.0, 30.0, 35.0, 50.0, 3.0, 52.0, 40.0, 21.0, 36.0, 16.0, 25.0, 58.0, 35.0, 28.0, 25.0, 41.0, 37.0, 33.0, 63.0, 45.0, 21.0, 7.0, 35.0, 28.0, 16.0, 19.0, 57.0, 33.0, 30.0, 22.0, 42.0, 22.0, 26.0, 19.0, 36.0, 24.0, 24.0, 30.0, 23.5, 2.0, 47.0, 50.0, 20.0, 24.0, 19.0, 46.0, 28.0, 0.92, 42.0, 17.0, 30.0, 30.0, 24.0, 18.0, 26.0, 28.0, 43.0, 26.0, 24.0, 54.0, 31.0, 40.0, 22.0, 27.0, 30.0, 22.0, 20.0, 36.0, 61.0, 36.0, 31.0, 16.0, 28.0, 45.5, 38.0, 16.0, 42.0, 30.0, 29.0, 41.0, 45.0, 45.0, 2.0, 24.0, 28.0, 25.0, 36.0, 24.0, 40.0, 34.0, 3.0, 42.0, 23.0, 43.0, 15.0, 25.0, 23.0, 28.0, 22.0, 38.0, 22.0, 23.0, 40.0, 29.0, 45.0, 35.0, 27.0, 30.0, 60.0, 35.0, 22.0, 24.0, 25.0, 18.0, 19.0, 22.0, 3.0, 25.0, 22.0, 27.0, 20.0, 19.0, 42.0, 1.0, 32.0, 35.0, 27.0, 18.0, 1.0, 36.0, 19.0, 17.0, 36.0, 21.0, 28.0, 23.0, 24.0, 22.0, 31.0, 46.0, 23.0, 28.0, 39.0, 26.0, 21.0, 28.0, 20.0, 34.0, 51.0, 3.0, 21.0, 3.0, 42.0, 27.0, 33.0, 22.0, 44.0, 32.0, 34.0, 18.0, 30.0, 10.0, 21.0, 29.0, 28.0, 18.0, 54.0, 28.0, 19.0, 28.0, 32.0, 28.0, 33.0, 42.0, 17.0, 50.0, 14.0, 21.0, 24.0, 64.0, 31.0, 45.0, 20.0, 25.0, 28.0, 29.0, 4.0, 13.0, 34.0, 5.0, 52.0, 36.0, 28.0, 30.0, 49.0, 24.0, 29.0, 41.0, 50.0, 17.0, 48.0, 34.0, 47.0, 48.0, 34.0, 38.0, 21.0, 56.0, 22.0, 0.75, 39.0, 38.0, 33.0, 23.0, 22.0, 40.0, 34.0, 29.0, 22.0, 2.0, 9.0, 37.0, 50.0, 63.0, 25.0, 8.0, 35.0, 58.0, 30.0, 9.0, 19.0, 21.0, 55.0, 21.0, 26.0, 54.0, 55.0, 25.0, 24.0, 17.0, 21.0, 21.0, 37.0, 16.0, 18.0, 33.0, 37.0, 28.0, 26.0, 29.0, 36.0, 54.0, 24.0, 47.0, 34.0, 30.0, 36.0, 32.0, 30.0, 22.0, 35.0, 44.0, 18.0, 40.5, 50.0, 49.0, 39.0, 23.0, 2.0, 17.0, 17.0, 24.0, 30.0, 7.0, 45.0, 30.0, 22.0, 36.0, 9.0, 11.0, 32.0, 50.0, 64.0, 19.0, 27.0, 33.0, 8.0, 17.0, 27.0, 21.0, 22.0, 22.0, 62.0, 48.0, 45.0, 39.0, 36.0, 30.0, 40.0, 28.0, 40.0, 62.0, 24.0, 19.0, 29.0, 28.0, 32.0, 62.0, 53.0, 36.0, 22.0, 16.0, 19.0, 34.0, 39.0, 18.0, 32.0, 25.0, 39.0, 54.0, 36.0, 16.0, 18.0, 47.0, 60.0, 22.0, 22.0, 35.0, 52.0, 47.0, 40.0, 37.0, 36.0, 31.0, 49.0, 18.0, 49.0, 24.0, 42.0, 37.0, 44.0, 35.0, 36.0, 30.0, 27.0, 22.0, 40.0, 39.0, 21.0, 18.0, 22.0, 35.0, 24.0, 34.0, 26.0, 4.0, 26.0, 27.0, 42.0, 20.0, 21.0, 21.0, 61.0, 57.0, 21.0, 26.0, 18.0, 51.0, 32.0, 30.0, 9.0, 28.0, 32.0, 31.0, 41.0, 37.0, 20.0, 24.0, 2.0, 32.0, 0.75, 48.0, 19.0, 56.0, 21.0, 23.0, 23.0, 18.0, 21.0, 16.0, 18.0, 24.0, 27.0, 32.0, 23.0, 58.0, 50.0, 40.0, 47.0, 36.0, 20.0, 32.0, 25.0, 49.0, 43.0, 48.0, 40.0, 31.0, 31.0, 19.0, 18.0, 24.5, 18.0, 43.0, 36.0, 28.0, 27.0, 20.0, 14.0, 60.0, 25.0, 14.0, 19.0, 18.0, 15.0, 31.0, 4.0, 37.0, 25.0, 60.0, 52.0, 44.0, 19.0, 49.0, 42.0, 18.0, 35.0, 18.0, 25.0, 26.0, 39.0, 45.0, 42.0, 22.0, 4.0, 24.0, 41.0, 48.0, 29.0, 52.0, 19.0, 38.0, 27.0, 33.0, 6.0, 17.0, 34.0, 50.0, 27.0, 20.0, 30.0, 28.0, 25.0, 25.0, 29.0, 11.0, 41.0, 23.0, 23.0, 28.5, 48.0, 35.0, 20.0, 32.0, 45.0, 36.0, 21.0, 24.0, 31.0, 16.0, 30.0, 19.0, 31.0, 4.0, 6.0, 33.0, 23.0, 48.0, 0.67, 28.0, 18.0, 34.0, 33.0, 23.0, 41.0, 20.0, 36.0, 16.0, 51.0, 46.0, 30.5, 28.0, 32.0, 24.0, 48.0, 57.0, 29.0, 54.0, 18.0, 20.0, 5.0, 22.0, 43.0, 13.0, 17.0, 29.0, 35.0, 25.0, 25.0, 18.0, 8.0, 1.0, 46.0, 20.0, 16.0, 21.0, 43.0, 25.0, 39.0, 49.0, 31.0, 30.0, 30.0, 34.0, 31.0, 11.0, 0.42, 27.0, 31.0, 39.0, 18.0, 39.0, 33.0, 26.0, 39.0, 35.0, 6.0, 30.5, 39.0, 23.0, 31.0, 43.0, 10.0, 52.0, 27.0, 38.0, 27.0, 2.0, 36.0, 23.0, 1.0, 19.0, 62.0, 15.0, 0.83, 30.0, 23.0, 18.0, 39.0, 21.0, 20.0, 32.0, 29.0, 20.0, 16.0, 30.0, 34.5, 17.0, 42.0, 18.0, 35.0, 28.0, 40.0, 4.0, 9.0, 16.0, 44.0, 18.0, 45.0, 51.0, 24.0, 30.0, 41.0, 21.0, 48.0, 14.0, 24.0, 42.0, 27.0, 31.0, 23.0, 4.0, 26.0, 47.0, 33.0, 47.0, 28.0, 15.0, 20.0, 19.0, 23.0, 56.0, 25.0, 33.0, 22.0, 28.0, 25.0, 39.0, 27.0, 19.0, 7.0, 26.0, 32.0]\n"
     ]
    }
   ],
   "source": [
    "# lets remove the outlers of titanic dataset\n",
    "\n",
    "import numpy as np\n",
    "import pandas as pd\n",
    "\n",
    "# load data\n",
    "titanic = pd.read_csv('https://web.stanford.edu/class/archive/cs/cs109/cs109.1192/stuff/titanic.csv')\n",
    "\n",
    "\n",
    "# define function to remove outliers\n",
    "def remove_outliers(x):\n",
    "    sorted_x = np.sort(x)\n",
    "    q1, q3 = np.percentile(sorted_x, [25, 75])\n",
    "    iqr = q3-q1\n",
    "    lower_bound = q1-(1.5*iqr)\n",
    "    upper_bound = q3 + (1.5*iqr)\n",
    "    outliers = [i for i in x if i<lower_bound or i > upper_bound]\n",
    "    new_x = [i for i in x if i >= lower_bound and i <= upper_bound]\n",
    "    return new_x, outliers\n",
    "\n",
    "new_age, outliers = remove_outliers(titanic['Age'])\n",
    "print('no of removed outliers: ',len(outliers))\n",
    "print('new age: ',new_age)"
   ]
  }
 ],
 "metadata": {
  "kernelspec": {
   "display_name": "Python 3 (ipykernel)",
   "language": "python",
   "name": "python3"
  },
  "language_info": {
   "codemirror_mode": {
    "name": "ipython",
    "version": 3
   },
   "file_extension": ".py",
   "mimetype": "text/x-python",
   "name": "python",
   "nbconvert_exporter": "python",
   "pygments_lexer": "ipython3",
   "version": "3.11.5"
  }
 },
 "nbformat": 4,
 "nbformat_minor": 5
}
