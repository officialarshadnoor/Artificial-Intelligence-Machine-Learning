{
 "cells": [
  {
   "cell_type": "code",
   "execution_count": 3,
   "id": "8d40ffa8-16eb-47f8-a957-50b85a07b4de",
   "metadata": {},
   "outputs": [
    {
     "name": "stdout",
     "output_type": "stream",
     "text": [
      "[[1.         0.90828376]\n",
      " [0.90828376 1.        ]]\n"
     ]
    }
   ],
   "source": [
    "# for finding rank , correlation and coefficient\n",
    "\n",
    "X = [20, 22, 25,22, 26, 25, 30, 29, 32, 35, 33, 37, 39]\n",
    "Y = [1,2,3,5,6,2,4,8,9,11,15,14,19]\n",
    "\n",
    "import numpy as np\n",
    "x = np.array(X)\n",
    "y = np.array(Y)\n",
    "\n",
    "print(np.corrcoef(x,y))"
   ]
  },
  {
   "cell_type": "code",
   "execution_count": 4,
   "id": "82d2e4b1-6f84-4487-bdae-3f7e6ae943c8",
   "metadata": {},
   "outputs": [
    {
     "name": "stdout",
     "output_type": "stream",
     "text": [
      "PearsonRResult(statistic=0.9082837625625952, pvalue=1.7510472173070618e-05)\n"
     ]
    }
   ],
   "source": [
    "# method 2\n",
    "import scipy.stats as stats\n",
    "stats.pearsonr(x,y)\n",
    "print(stats.pearsonr(x, y))"
   ]
  },
  {
   "cell_type": "code",
   "execution_count": 5,
   "id": "fe6cb741-13f5-4861-9153-1eca2438f7c4",
   "metadata": {},
   "outputs": [
    {
     "name": "stdout",
     "output_type": "stream",
     "text": [
      "SignificanceResult(statistic=0.9075870702378139, pvalue=1.8229570175103235e-05)\n"
     ]
    }
   ],
   "source": [
    "import scipy.stats as stats\n",
    "print(stats.spearmanr(x,y))"
   ]
  }
 ],
 "metadata": {
  "kernelspec": {
   "display_name": "Python 3 (ipykernel)",
   "language": "python",
   "name": "python3"
  },
  "language_info": {
   "codemirror_mode": {
    "name": "ipython",
    "version": 3
   },
   "file_extension": ".py",
   "mimetype": "text/x-python",
   "name": "python",
   "nbconvert_exporter": "python",
   "pygments_lexer": "ipython3",
   "version": "3.11.5"
  }
 },
 "nbformat": 4,
 "nbformat_minor": 5
}
