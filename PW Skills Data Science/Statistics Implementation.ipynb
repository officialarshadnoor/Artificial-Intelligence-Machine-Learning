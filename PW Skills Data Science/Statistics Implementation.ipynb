{
 "cells": [
  {
   "cell_type": "code",
   "execution_count": 1,
   "id": "3f970d37-a2ca-4c29-a59e-b44a3d63abd5",
   "metadata": {},
   "outputs": [
    {
     "name": "stdout",
     "output_type": "stream",
     "text": [
      "1569 10\n"
     ]
    }
   ],
   "source": [
    "import numpy as np\n",
    "\n",
    "# convert the data to array\n",
    "data = np.array([180, 167, 154, 142, 181, 145, 143, 145, 167, 145])\n",
    "total = sum(data)\n",
    "n = len(data)\n",
    "print(total, n)"
   ]
  },
  {
   "cell_type": "code",
   "execution_count": 2,
   "id": "80c30b83-1ef2-4162-9be9-ca94641646d2",
   "metadata": {},
   "outputs": [
    {
     "data": {
      "text/plain": [
       "array([142, 143, 145, 145, 145, 154, 167, 167, 180, 181])"
      ]
     },
     "execution_count": 2,
     "metadata": {},
     "output_type": "execute_result"
    }
   ],
   "source": [
    "# to find the median we sort the data then find the middle variable\n",
    "np.sort(data)"
   ]
  },
  {
   "cell_type": "code",
   "execution_count": 3,
   "id": "fa36920a-23df-49b3-a215-edea9ec380ac",
   "metadata": {},
   "outputs": [
    {
     "name": "stdout",
     "output_type": "stream",
     "text": [
      "5.0\n"
     ]
    },
    {
     "data": {
      "text/plain": [
       "149.5"
      ]
     },
     "execution_count": 3,
     "metadata": {},
     "output_type": "execute_result"
    }
   ],
   "source": [
    "# there are even number of data points hence the median will be sum of 2 middle values\n",
    "print(n/2)\n",
    "np.mean([145,154])"
   ]
  },
  {
   "cell_type": "code",
   "execution_count": 4,
   "id": "6445c351-5e4d-4fc8-bfb5-0086669df6ac",
   "metadata": {},
   "outputs": [
    {
     "data": {
      "text/plain": [
       "149.5"
      ]
     },
     "execution_count": 4,
     "metadata": {},
     "output_type": "execute_result"
    }
   ],
   "source": [
    "# we can use inbuilt method of numpy library\n",
    "np.median(data)"
   ]
  },
  {
   "cell_type": "code",
   "execution_count": 6,
   "id": "9a9d0707-f393-486d-b66b-00c81f102eba",
   "metadata": {},
   "outputs": [
    {
     "name": "stdout",
     "output_type": "stream",
     "text": [
      "Mean is 151.8\n",
      "Median is 149.5\n"
     ]
    }
   ],
   "source": [
    "# for mod\n",
    "\n",
    "data_new = np.array([122,123,135,145,145,154,166,167,180, 181])\n",
    "print(f'Mean is {np.mean(data_new)}')\n",
    "print(f'Median is {np.median(data_new)}')"
   ]
  },
  {
   "cell_type": "code",
   "execution_count": null,
   "id": "90bf7458-f916-4376-b024-0866faeaff8b",
   "metadata": {},
   "outputs": [],
   "source": [
    "# mode\n"
   ]
  }
 ],
 "metadata": {
  "kernelspec": {
   "display_name": "Python 3 (ipykernel)",
   "language": "python",
   "name": "python3"
  },
  "language_info": {
   "codemirror_mode": {
    "name": "ipython",
    "version": 3
   },
   "file_extension": ".py",
   "mimetype": "text/x-python",
   "name": "python",
   "nbconvert_exporter": "python",
   "pygments_lexer": "ipython3",
   "version": "3.11.5"
  }
 },
 "nbformat": 4,
 "nbformat_minor": 5
}
