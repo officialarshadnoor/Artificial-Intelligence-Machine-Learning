{
 "cells": [
  {
   "cell_type": "code",
   "execution_count": 1,
   "id": "cee8f2ef-14a7-492e-a1fa-035ec8e0d2fa",
   "metadata": {},
   "outputs": [
    {
     "name": "stdout",
     "output_type": "stream",
     "text": [
      "sort data: [-15 -10   1   2   2   3   3   4   5   6   7   8   9  10  11  12  25  30\n",
      "  40  50]\n"
     ]
    }
   ],
   "source": [
    "# Step 1\n",
    "#### sorting\n",
    "\n",
    "import numpy as np\n",
    "\n",
    "data = [7,3,6,8,10,2,5,4,9,1,2,3,11,12,-10, -15, 25, 30, 40, 50]\n",
    "x = np.sort(data)\n",
    "print(\"sort data:\",x)"
   ]
  },
  {
   "cell_type": "code",
   "execution_count": 3,
   "id": "02233b10-4101-4a32-9173-388a1719c9b7",
   "metadata": {},
   "outputs": [
    {
     "name": "stdout",
     "output_type": "stream",
     "text": [
      "median or q2: 6.5\n",
      "q1: 2.75\n",
      "q3: 11.25\n",
      "IQR: 8.5\n"
     ]
    }
   ],
   "source": [
    "# step 2\n",
    "## finding median and also to find q1 and q2\n",
    "\n",
    "#median\n",
    "q2 = np.median(x)\n",
    "print(\"median or q2:\",q2)\n",
    "\n",
    "# calculate the interquartile range (iqr)\n",
    "q1, q3 = np.percentile(x, [25, 75])\n",
    "iqr = q3 - q1\n",
    "print(\"q1:\", q1)\n",
    "print(\"q3:\", q3)\n",
    "print(\"IQR:\", iqr)"
   ]
  },
  {
   "cell_type": "code",
   "execution_count": 4,
   "id": "de55bb01-a38d-4fe3-a49d-7924b4b6964c",
   "metadata": {},
   "outputs": [
    {
     "name": "stdout",
     "output_type": "stream",
     "text": [
      "Lower bound -10.0\n",
      "Upper bound 24.0\n"
     ]
    }
   ],
   "source": [
    "# upper and lower bound\n",
    "lower_bound = q1 - 1.5*iqr\n",
    "upper_bound = q3+ 1.5*iqr\n",
    "\n",
    "print(\"Lower bound\",lower_bound)\n",
    "print(\"Upper bound\",upper_bound)"
   ]
  },
  {
   "cell_type": "code",
   "execution_count": 7,
   "id": "188d017a-ca70-4553-b9f5-e2a5c70bb56f",
   "metadata": {},
   "outputs": [
    {
     "name": "stdout",
     "output_type": "stream",
     "text": [
      "[-15, 25, 30, 40, 50]\n",
      "[-15, 25, 30, 40, 50]\n"
     ]
    }
   ],
   "source": [
    "# Identify the outliers\n",
    "outliers = [val for val in x if val < lower_bound or val > upper_bound]\n",
    "\n",
    "# Alternatively\n",
    "outlier = []\n",
    "for i in x:\n",
    "    if i < lower_bound or i>upper_bound:\n",
    "        outlier.append(i)\n",
    "\n",
    "print(outliers)\n",
    "print(outlier)"
   ]
  },
  {
   "cell_type": "code",
   "execution_count": 8,
   "id": "1fef9e1f-d622-45fc-94fc-77d90a5bed58",
   "metadata": {},
   "outputs": [
    {
     "name": "stdout",
     "output_type": "stream",
     "text": [
      "[-10, 1, 2, 2, 3, 3, 4, 5, 6, 7, 8, 9, 10, 11, 12]\n"
     ]
    }
   ],
   "source": [
    "# remove the outliers from x\n",
    "new_x = [val for val in x if val >= lower_bound and val <= upper_bound]\n",
    "print(new_x)"
   ]
  }
 ],
 "metadata": {
  "kernelspec": {
   "display_name": "Python 3 (ipykernel)",
   "language": "python",
   "name": "python3"
  },
  "language_info": {
   "codemirror_mode": {
    "name": "ipython",
    "version": 3
   },
   "file_extension": ".py",
   "mimetype": "text/x-python",
   "name": "python",
   "nbconvert_exporter": "python",
   "pygments_lexer": "ipython3",
   "version": "3.11.5"
  }
 },
 "nbformat": 4,
 "nbformat_minor": 5
}
