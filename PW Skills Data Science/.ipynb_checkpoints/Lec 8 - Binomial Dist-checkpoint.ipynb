{
 "cells": [
  {
   "cell_type": "code",
   "execution_count": 7,
   "id": "3f613061-1c55-4826-9608-ca7978c0ccd4",
   "metadata": {},
   "outputs": [],
   "source": [
    "## Binomial distribution\n",
    "\n",
    "from scipy.stats import binom\n",
    "import matplotlib.pyplot as plt\n",
    "import numpy as np\n",
    "\n",
    "# we generate random variable sample by providing the parameters n and p\n",
    "x = binom.rvs(20, 0.7, size=100)"
   ]
  },
  {
   "cell_type": "code",
   "execution_count": 2,
   "id": "d4d63cfd-ffe6-483a-90b1-5627ac4683f3",
   "metadata": {},
   "outputs": [
    {
     "data": {
      "text/plain": [
       "array([0.07160367, 0.11439674, 0.19163898, 0.17886305, 0.11439674,\n",
       "       0.17886305, 0.19163898, 0.11439674, 0.19163898, 0.16426199,\n",
       "       0.17886305, 0.17886305, 0.19163898, 0.11439674, 0.13042097,\n",
       "       0.16426199, 0.17886305, 0.17886305, 0.06536957, 0.17886305,\n",
       "       0.17886305, 0.13042097, 0.13042097, 0.07160367, 0.17886305,\n",
       "       0.17886305, 0.13042097, 0.07160367, 0.03081708, 0.16426199,\n",
       "       0.19163898, 0.17886305, 0.19163898, 0.17886305, 0.13042097,\n",
       "       0.19163898, 0.06536957, 0.13042097, 0.17886305, 0.11439674,\n",
       "       0.06536957, 0.17886305, 0.16426199, 0.17886305, 0.06536957,\n",
       "       0.19163898, 0.16426199, 0.19163898, 0.16426199, 0.17886305,\n",
       "       0.06536957, 0.19163898, 0.11439674, 0.07160367, 0.16426199,\n",
       "       0.06536957, 0.16426199, 0.11439674, 0.19163898, 0.13042097,\n",
       "       0.11439674, 0.00683934, 0.13042097, 0.11439674, 0.02784587,\n",
       "       0.19163898, 0.00683934, 0.03081708, 0.06536957, 0.17886305,\n",
       "       0.17886305, 0.16426199, 0.17886305, 0.19163898, 0.17886305,\n",
       "       0.17886305, 0.11439674, 0.06536957, 0.07160367, 0.11439674,\n",
       "       0.16426199, 0.13042097, 0.17886305, 0.01200665, 0.16426199,\n",
       "       0.11439674, 0.19163898, 0.19163898, 0.17886305, 0.13042097,\n",
       "       0.16426199, 0.07160367, 0.16426199, 0.16426199, 0.11439674,\n",
       "       0.17886305, 0.19163898, 0.13042097, 0.19163898, 0.13042097])"
      ]
     },
     "execution_count": 2,
     "metadata": {},
     "output_type": "execute_result"
    }
   ],
   "source": [
    "probs = binom.pmf(x, 20, 0.7)\n",
    "probs"
   ]
  },
  {
   "cell_type": "code",
   "execution_count": 13,
   "id": "a528a7c1-54df-44af-b1b9-d1d24aa61ed4",
   "metadata": {},
   "outputs": [
    {
     "ename": "TypeError",
     "evalue": "stem() got an unexpected keyword argument 'use_line_collection'",
     "output_type": "error",
     "traceback": [
      "\u001b[1;31m---------------------------------------------------------------------------\u001b[0m",
      "\u001b[1;31mTypeError\u001b[0m                                 Traceback (most recent call last)",
      "Cell \u001b[1;32mIn[13], line 2\u001b[0m\n\u001b[0;32m      1\u001b[0m \u001b[38;5;66;03m# now we'll plot it\u001b[39;00m\n\u001b[1;32m----> 2\u001b[0m plt\u001b[38;5;241m.\u001b[39mstem(x, probs, use_line_collection\u001b[38;5;241m=\u001b[39m\u001b[38;5;28;01mTrue\u001b[39;00m)\n\u001b[0;32m      3\u001b[0m plt\u001b[38;5;241m.\u001b[39mshow\n",
      "\u001b[1;31mTypeError\u001b[0m: stem() got an unexpected keyword argument 'use_line_collection'"
     ]
    }
   ],
   "source": [
    "\n",
    "# now we'll plot it\n",
    "plt.stem(x, probs, use_line_collection=True)\n",
    "plt.show"
   ]
  },
  {
   "cell_type": "code",
   "execution_count": null,
   "id": "0fef5a6b-4003-43e6-9025-491680ac0ecd",
   "metadata": {},
   "outputs": [],
   "source": [
    "\n",
    "\n",
    "# we can get the probabilities of all values of x\n",
    "x = np.array"
   ]
  }
 ],
 "metadata": {
  "kernelspec": {
   "display_name": "Python 3 (ipykernel)",
   "language": "python",
   "name": "python3"
  },
  "language_info": {
   "codemirror_mode": {
    "name": "ipython",
    "version": 3
   },
   "file_extension": ".py",
   "mimetype": "text/x-python",
   "name": "python",
   "nbconvert_exporter": "python",
   "pygments_lexer": "ipython3",
   "version": "3.11.5"
  }
 },
 "nbformat": 4,
 "nbformat_minor": 5
}
