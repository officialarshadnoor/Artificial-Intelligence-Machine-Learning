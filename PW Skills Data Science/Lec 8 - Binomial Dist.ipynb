{
 "cells": [
  {
   "cell_type": "code",
   "execution_count": 27,
   "id": "3f613061-1c55-4826-9608-ca7978c0ccd4",
   "metadata": {},
   "outputs": [],
   "source": [
    "## Binomial distribution\n",
    "\n",
    "from scipy.stats import binom\n",
    "import matplotlib.pyplot as plt\n",
    "from matplotlib.collections import LineCollection\n",
    "import numpy as np\n",
    "\n",
    "# we generate random variable sample by providing the parameters n and p\n",
    "x = binom.rvs(20, 0.7, size=100)"
   ]
  },
  {
   "cell_type": "code",
   "execution_count": 2,
   "id": "d4d63cfd-ffe6-483a-90b1-5627ac4683f3",
   "metadata": {},
   "outputs": [
    {
     "data": {
      "text/plain": [
       "array([0.07160367, 0.11439674, 0.19163898, 0.17886305, 0.11439674,\n",
       "       0.17886305, 0.19163898, 0.11439674, 0.19163898, 0.16426199,\n",
       "       0.17886305, 0.17886305, 0.19163898, 0.11439674, 0.13042097,\n",
       "       0.16426199, 0.17886305, 0.17886305, 0.06536957, 0.17886305,\n",
       "       0.17886305, 0.13042097, 0.13042097, 0.07160367, 0.17886305,\n",
       "       0.17886305, 0.13042097, 0.07160367, 0.03081708, 0.16426199,\n",
       "       0.19163898, 0.17886305, 0.19163898, 0.17886305, 0.13042097,\n",
       "       0.19163898, 0.06536957, 0.13042097, 0.17886305, 0.11439674,\n",
       "       0.06536957, 0.17886305, 0.16426199, 0.17886305, 0.06536957,\n",
       "       0.19163898, 0.16426199, 0.19163898, 0.16426199, 0.17886305,\n",
       "       0.06536957, 0.19163898, 0.11439674, 0.07160367, 0.16426199,\n",
       "       0.06536957, 0.16426199, 0.11439674, 0.19163898, 0.13042097,\n",
       "       0.11439674, 0.00683934, 0.13042097, 0.11439674, 0.02784587,\n",
       "       0.19163898, 0.00683934, 0.03081708, 0.06536957, 0.17886305,\n",
       "       0.17886305, 0.16426199, 0.17886305, 0.19163898, 0.17886305,\n",
       "       0.17886305, 0.11439674, 0.06536957, 0.07160367, 0.11439674,\n",
       "       0.16426199, 0.13042097, 0.17886305, 0.01200665, 0.16426199,\n",
       "       0.11439674, 0.19163898, 0.19163898, 0.17886305, 0.13042097,\n",
       "       0.16426199, 0.07160367, 0.16426199, 0.16426199, 0.11439674,\n",
       "       0.17886305, 0.19163898, 0.13042097, 0.19163898, 0.13042097])"
      ]
     },
     "execution_count": 2,
     "metadata": {},
     "output_type": "execute_result"
    }
   ],
   "source": [
    "probs = binom.pmf(x, 20, 0.7)\n",
    "probs"
   ]
  },
  {
   "cell_type": "code",
   "execution_count": 28,
   "id": "a528a7c1-54df-44af-b1b9-d1d24aa61ed4",
   "metadata": {},
   "outputs": [
    {
     "ename": "TypeError",
     "evalue": "stem() got an unexpected keyword argument 'use_line_collection'",
     "output_type": "error",
     "traceback": [
      "\u001b[1;31m---------------------------------------------------------------------------\u001b[0m",
      "\u001b[1;31mTypeError\u001b[0m                                 Traceback (most recent call last)",
      "Cell \u001b[1;32mIn[28], line 2\u001b[0m\n\u001b[0;32m      1\u001b[0m \u001b[38;5;66;03m# now we'll plot it\u001b[39;00m\n\u001b[1;32m----> 2\u001b[0m plt\u001b[38;5;241m.\u001b[39mstem(x, probs, use_line_collection\u001b[38;5;241m=\u001b[39m\u001b[38;5;28;01mTrue\u001b[39;00m)\n\u001b[0;32m      3\u001b[0m plt\u001b[38;5;241m.\u001b[39mshow\n",
      "\u001b[1;31mTypeError\u001b[0m: stem() got an unexpected keyword argument 'use_line_collection'"
     ]
    }
   ],
   "source": [
    "\n",
    "# now we'll plot it\n",
    "plt.stem(x, probs, use_line_collection=True)\n",
    "plt.show"
   ]
  },
  {
   "cell_type": "code",
   "execution_count": 18,
   "id": "0fef5a6b-4003-43e6-9025-491680ac0ecd",
   "metadata": {},
   "outputs": [
    {
     "data": {
      "text/plain": [
       "array([0.00097656, 0.00976563, 0.04394531, 0.1171875 , 0.20507812,\n",
       "       0.24609375, 0.20507812, 0.1171875 , 0.04394531, 0.00976563,\n",
       "       0.00097656])"
      ]
     },
     "execution_count": 18,
     "metadata": {},
     "output_type": "execute_result"
    }
   ],
   "source": [
    "\n",
    "\n",
    "# we can get the probabilities of all values of x\n",
    "x = np.array([0,1,2,3,4,5,6,7,8,9,10])\n",
    "prob = binom.pmf(x, 10, 0.5)\n",
    "prob"
   ]
  },
  {
   "cell_type": "code",
   "execution_count": 19,
   "id": "0ac95a46-e45c-4115-86ac-50a41bf55f70",
   "metadata": {},
   "outputs": [
    {
     "data": {
      "text/plain": [
       "0.17187500000000003"
      ]
     },
     "execution_count": 19,
     "metadata": {},
     "output_type": "execute_result"
    }
   ],
   "source": [
    "# sum of prob of 7 to 10\n",
    "sum(prob[7:])"
   ]
  },
  {
   "cell_type": "code",
   "execution_count": 20,
   "id": "364223df-4795-4910-8ff5-c00fcdaa8b80",
   "metadata": {},
   "outputs": [
    {
     "data": {
      "text/plain": [
       "0.171875"
      ]
     },
     "execution_count": 20,
     "metadata": {},
     "output_type": "execute_result"
    }
   ],
   "source": [
    "# by using cdf method\n",
    "binom.cdf(10, 10,0.5) - binom.cdf(6,10,0.5)"
   ]
  },
  {
   "cell_type": "code",
   "execution_count": 22,
   "id": "fc4f1ad9-04c4-4e18-8cf7-ee548deadfb7",
   "metadata": {},
   "outputs": [
    {
     "data": {
      "text/plain": [
       "array([2, 5, 1, 4, 4, 4, 3, 1, 1, 1, 2, 4, 1, 3, 1, 4, 1, 4, 3, 5, 1, 3,\n",
       "       3, 5, 4, 4, 3, 3, 2, 5, 2, 3, 4, 3, 2, 4, 3, 4, 2, 1, 4, 9, 4, 0,\n",
       "       2, 3, 3, 3, 2, 2, 3, 1, 4, 2, 2, 5, 2, 0, 6, 5, 5, 4, 1, 1, 7, 1,\n",
       "       2, 2, 2, 5, 0, 1, 3, 3, 3, 3, 3, 2, 4, 2, 1, 5, 4, 3, 6, 2, 4, 1,\n",
       "       1, 2, 1, 1, 5, 7, 1, 4, 3, 7, 1, 2], dtype=int64)"
      ]
     },
     "execution_count": 22,
     "metadata": {},
     "output_type": "execute_result"
    }
   ],
   "source": [
    "### Poisson distribution\n",
    "\n",
    "from scipy.stats import poisson\n",
    "\n",
    "# generate random variable samples using poisson distribution\n",
    "x = poisson.rvs(mu = 3, size = 100)\n",
    "x"
   ]
  },
  {
   "cell_type": "code",
   "execution_count": 25,
   "id": "2bb661bc-fcb3-481d-afaf-9661a5b2a264",
   "metadata": {
    "scrolled": true
   },
   "outputs": [
    {
     "data": {
      "text/plain": [
       "array([0.22404181, 0.10081881, 0.14936121, 0.16803136, 0.16803136,\n",
       "       0.16803136, 0.22404181, 0.14936121, 0.14936121, 0.14936121,\n",
       "       0.22404181, 0.16803136, 0.14936121, 0.22404181, 0.14936121,\n",
       "       0.16803136, 0.14936121, 0.16803136, 0.22404181, 0.10081881,\n",
       "       0.14936121, 0.22404181, 0.22404181, 0.10081881, 0.16803136,\n",
       "       0.16803136, 0.22404181, 0.22404181, 0.22404181, 0.10081881,\n",
       "       0.22404181, 0.22404181, 0.16803136, 0.22404181, 0.22404181,\n",
       "       0.16803136, 0.22404181, 0.16803136, 0.22404181, 0.14936121,\n",
       "       0.16803136, 0.0027005 , 0.16803136, 0.04978707, 0.22404181,\n",
       "       0.22404181, 0.22404181, 0.22404181, 0.22404181, 0.22404181,\n",
       "       0.22404181, 0.14936121, 0.16803136, 0.22404181, 0.22404181,\n",
       "       0.10081881, 0.22404181, 0.04978707, 0.05040941, 0.10081881,\n",
       "       0.10081881, 0.16803136, 0.14936121, 0.14936121, 0.02160403,\n",
       "       0.14936121, 0.22404181, 0.22404181, 0.22404181, 0.10081881,\n",
       "       0.04978707, 0.14936121, 0.22404181, 0.22404181, 0.22404181,\n",
       "       0.22404181, 0.22404181, 0.22404181, 0.16803136, 0.22404181,\n",
       "       0.14936121, 0.10081881, 0.16803136, 0.22404181, 0.05040941,\n",
       "       0.22404181, 0.16803136, 0.14936121, 0.14936121, 0.22404181,\n",
       "       0.14936121, 0.14936121, 0.10081881, 0.02160403, 0.14936121,\n",
       "       0.16803136, 0.22404181, 0.02160403, 0.14936121, 0.22404181])"
      ]
     },
     "execution_count": 25,
     "metadata": {},
     "output_type": "execute_result"
    }
   ],
   "source": [
    "prob = poisson.pmf(x, mu=3)\n",
    "prob"
   ]
  },
  {
   "cell_type": "code",
   "execution_count": 32,
   "id": "a7ad9d7d-ee17-4021-af5e-9a540865eeff",
   "metadata": {},
   "outputs": [
    {
     "ename": "NameError",
     "evalue": "name 'matplotlib' is not defined",
     "output_type": "error",
     "traceback": [
      "\u001b[1;31m---------------------------------------------------------------------------\u001b[0m",
      "\u001b[1;31mNameError\u001b[0m                                 Traceback (most recent call last)",
      "Cell \u001b[1;32mIn[32], line 1\u001b[0m\n\u001b[1;32m----> 1\u001b[0m matplotlib\u001b[38;5;241m.\u001b[39mpyplot\u001b[38;5;241m.\u001b[39mstem(x, prob, use_line_collection\u001b[38;5;241m=\u001b[39m\u001b[38;5;28;01mTrue\u001b[39;00m)\n",
      "\u001b[1;31mNameError\u001b[0m: name 'matplotlib' is not defined"
     ]
    }
   ],
   "source": [
    "matplotlib.pyplot.stem(x, prob, use_line_collection=True)"
   ]
  },
  {
   "cell_type": "code",
   "execution_count": 33,
   "id": "014ce4c6-256e-4dc0-a14f-9df61c8ed239",
   "metadata": {},
   "outputs": [
    {
     "ename": "TypeError",
     "evalue": "stem() got an unexpected keyword argument 'use_line_collection'",
     "output_type": "error",
     "traceback": [
      "\u001b[1;31m---------------------------------------------------------------------------\u001b[0m",
      "\u001b[1;31mTypeError\u001b[0m                                 Traceback (most recent call last)",
      "Cell \u001b[1;32mIn[33], line 9\u001b[0m\n\u001b[0;32m      7\u001b[0m y \u001b[38;5;241m=\u001b[39m np\u001b[38;5;241m.\u001b[39mexp(np\u001b[38;5;241m.\u001b[39mcos(x))\n\u001b[0;32m      8\u001b[0m \u001b[38;5;66;03m# invoking stem() method\u001b[39;00m\n\u001b[1;32m----> 9\u001b[0m plt\u001b[38;5;241m.\u001b[39mstem(x, y, linefmt \u001b[38;5;241m=\u001b[39m\u001b[38;5;124m'\u001b[39m\u001b[38;5;124mred\u001b[39m\u001b[38;5;124m'\u001b[39m, markerfmt \u001b[38;5;241m=\u001b[39m\u001b[38;5;124m'\u001b[39m\u001b[38;5;124m-.\u001b[39m\u001b[38;5;124m'\u001b[39m, bottom \u001b[38;5;241m=\u001b[39m \u001b[38;5;241m1.1\u001b[39m, use_line_collection \u001b[38;5;241m=\u001b[39m \u001b[38;5;28;01mTrue\u001b[39;00m)\n\u001b[0;32m     10\u001b[0m \u001b[38;5;66;03m# save above generated plot as png image in root directory\u001b[39;00m\n\u001b[0;32m     11\u001b[0m plt\u001b[38;5;241m.\u001b[39msavefig(\u001b[38;5;124m'\u001b[39m\u001b[38;5;124moutput/graph.png\u001b[39m\u001b[38;5;124m'\u001b[39m)\n",
      "\u001b[1;31mTypeError\u001b[0m: stem() got an unexpected keyword argument 'use_line_collection'"
     ]
    }
   ],
   "source": []
  },
  {
   "cell_type": "code",
   "execution_count": null,
   "id": "b46a1ea5-cd5a-44c5-9fbe-94c239edde9a",
   "metadata": {},
   "outputs": [],
   "source": []
  }
 ],
 "metadata": {
  "kernelspec": {
   "display_name": "Python 3 (ipykernel)",
   "language": "python",
   "name": "python3"
  },
  "language_info": {
   "codemirror_mode": {
    "name": "ipython",
    "version": 3
   },
   "file_extension": ".py",
   "mimetype": "text/x-python",
   "name": "python",
   "nbconvert_exporter": "python",
   "pygments_lexer": "ipython3",
   "version": "3.11.5"
  }
 },
 "nbformat": 4,
 "nbformat_minor": 5
}
