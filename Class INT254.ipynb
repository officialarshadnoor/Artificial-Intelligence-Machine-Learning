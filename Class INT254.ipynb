{
 "cells": [
  {
   "cell_type": "code",
   "execution_count": 4,
   "id": "543e6d74-bac6-4066-92c2-7a9928b40ecb",
   "metadata": {},
   "outputs": [
    {
     "name": "stdout",
     "output_type": "stream",
     "text": [
      "vector shape  (2,)\n",
      "matrix shape  (2, 2)\n",
      "tensor shape  (2, 2, 2)\n"
     ]
    }
   ],
   "source": [
    "import numpy as np\n",
    "scalar = 1\n",
    "vector = np.array([1,2])\n",
    "matrix = np.array([[1,1],[2,2]])\n",
    "tensor = np.array([[[1,1],[2,2]],[[3,3],[4,4]]])\n",
    "print(\"vector shape \",vector.shape)\n",
    "print(\"matrix shape \",matrix.shape)\n",
    "print(\"tensor shape \",tensor.shape)"
   ]
  },
  {
   "cell_type": "code",
   "execution_count": 9,
   "id": "ed59dd64-d3b2-4681-9914-7fea5ea206cc",
   "metadata": {},
   "outputs": [
    {
     "name": "stdout",
     "output_type": "stream",
     "text": [
      "[[1 2 3 4]]\n",
      "(1, 4)\n"
     ]
    }
   ],
   "source": [
    "# matrix a\n",
    "a = np.array([[1,2,3,4]])\n",
    "b = a.reshape(1,4)\n",
    "print(b)\n",
    "print(b.shape)"
   ]
  },
  {
   "cell_type": "code",
   "execution_count": 12,
   "id": "73ebe186-87e7-4692-8786-39542bb7b794",
   "metadata": {},
   "outputs": [
    {
     "name": "stdout",
     "output_type": "stream",
     "text": [
      "reshaped vector:  [[1 2]\n",
      " [2 1]] \n",
      "\n",
      "reshaped matrix :  [[1]\n",
      " [2]\n",
      " [2]\n",
      " [1]] \n",
      "\n"
     ]
    }
   ],
   "source": [
    "matrix1 = np.array([[1,1],[2,2],[3,3]])\n",
    "matrix2 = np.array([[4,4,4],[5,5,5]])\n",
    "\n",
    "\n",
    "#reshape\n",
    "vector = np.array([1,2,2,1])\n",
    "print(\"reshaped vector: \", vector.reshape(2,2), '\\n')\n",
    "\n",
    "matrix = np.array([[1,2],[2,1]])\n",
    "print(\"reshaped matrix : \",matrix.reshape(4,1),'\\n')\n"
   ]
  },
  {
   "cell_type": "code",
   "execution_count": 13,
   "id": "c9d8c890-60f0-4402-b392-1c0212399d3b",
   "metadata": {},
   "outputs": [
    {
     "name": "stdout",
     "output_type": "stream",
     "text": [
      "inverse of the matrix:  [[ 0.   -0.75  0.5 ]\n",
      " [ 1.    0.25 -0.5 ]\n",
      " [ 0.    0.5   0.  ]]\n"
     ]
    }
   ],
   "source": [
    "# inverse of the matrix\n",
    "# np.linalg.inv(matrix)\n",
    "matrix = np.array([[1,1,1],[0,0,2],[2,0,3]])\n",
    "print(\"inverse of the matrix: \",np.linalg.inv(matrix))"
   ]
  },
  {
   "cell_type": "code",
   "execution_count": 34,
   "id": "65d99880-d077-4d06-93d7-e2784966f35c",
   "metadata": {},
   "outputs": [
    {
     "ename": "IndentationError",
     "evalue": "unexpected indent (3603209526.py, line 10)",
     "output_type": "error",
     "traceback": [
      "\u001b[1;36m  Cell \u001b[1;32mIn[34], line 10\u001b[1;36m\u001b[0m\n\u001b[1;33m    print(col)\u001b[0m\n\u001b[1;37m    ^\u001b[0m\n\u001b[1;31mIndentationError\u001b[0m\u001b[1;31m:\u001b[0m unexpected indent\n"
     ]
    }
   ],
   "source": [
    "# finding the linear equation values using matrix\n",
    "\n",
    "matrix1 = np.array([[[2,1,1],[1,3,2],[1,2,3]]])\n",
    "#     print(matrix1)\n",
    "inv = np.linalg.inv(matrix1)\n",
    "# print(inv)\n",
    "\n",
    "b = np.array([180,150,300])\n",
    "col = b.reshape(3,1)\n",
    " print(col)\n",
    "c =  b * col\n",
    "print(\"Result: \",c )"
   ]
  },
  {
   "cell_type": "code",
   "execution_count": null,
   "id": "e3a6155a-1e17-4b95-b585-36433f93d844",
   "metadata": {},
   "outputs": [],
   "source": []
  }
 ],
 "metadata": {
  "kernelspec": {
   "display_name": "Python 3 (ipykernel)",
   "language": "python",
   "name": "python3"
  },
  "language_info": {
   "codemirror_mode": {
    "name": "ipython",
    "version": 3
   },
   "file_extension": ".py",
   "mimetype": "text/x-python",
   "name": "python",
   "nbconvert_exporter": "python",
   "pygments_lexer": "ipython3",
   "version": "3.11.5"
  }
 },
 "nbformat": 4,
 "nbformat_minor": 5
}
