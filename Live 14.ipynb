{
 "cells": [
  {
   "cell_type": "code",
   "execution_count": 2,
   "id": "094c17f0-9862-4b01-bc90-5369b616efd0",
   "metadata": {},
   "outputs": [
    {
     "ename": "NameError",
     "evalue": "name 'd' is not defined",
     "output_type": "error",
     "traceback": [
      "\u001b[1;31m---------------------------------------------------------------------------\u001b[0m",
      "\u001b[1;31mNameError\u001b[0m                                 Traceback (most recent call last)",
      "Cell \u001b[1;32mIn[2], line 14\u001b[0m\n\u001b[0;32m     11\u001b[0m     \u001b[38;5;28;01mreturn\u001b[39;00m mean\n\u001b[0;32m     13\u001b[0m start_time \u001b[38;5;241m=\u001b[39m time\u001b[38;5;241m.\u001b[39mtime()\n\u001b[1;32m---> 14\u001b[0m m \u001b[38;5;241m=\u001b[39m mean() \u001b[38;5;66;03m# computer mean of 100MM numbers\u001b[39;00m\n\u001b[0;32m     15\u001b[0m end_time \u001b[38;5;241m=\u001b[39m time\u001b[38;5;241m.\u001b[39mtime()\n\u001b[0;32m     16\u001b[0m \u001b[38;5;28mprint\u001b[39m(end_time\u001b[38;5;241m-\u001b[39mstart_time)\n",
      "Cell \u001b[1;32mIn[2], line 6\u001b[0m, in \u001b[0;36mmean\u001b[1;34m()\u001b[0m\n\u001b[0;32m      3\u001b[0m \u001b[38;5;28;01mdef\u001b[39;00m \u001b[38;5;21mmean\u001b[39m():\n\u001b[0;32m      4\u001b[0m     \u001b[38;5;66;03m#sum using for loops. we can use inbuilt  Numpy sum operating for better speed\u001b[39;00m\n\u001b[0;32m      5\u001b[0m     \u001b[38;5;28msum\u001b[39m \u001b[38;5;241m=\u001b[39m\u001b[38;5;241m0\u001b[39m\n\u001b[1;32m----> 6\u001b[0m     n \u001b[38;5;241m=\u001b[39m d\u001b[38;5;241m.\u001b[39msize\n\u001b[0;32m      7\u001b[0m     \u001b[38;5;28;01mfor\u001b[39;00m i \u001b[38;5;129;01min\u001b[39;00m \u001b[38;5;28mrange\u001b[39m(n):\n\u001b[0;32m      8\u001b[0m         \u001b[38;5;28msum\u001b[39m\u001b[38;5;241m+\u001b[39m\u001b[38;5;241m=\u001b[39md[i]\n",
      "\u001b[1;31mNameError\u001b[0m: name 'd' is not defined"
     ]
    }
   ],
   "source": [
    "# Multi processing and Multi threading\n",
    "import time\n",
    "def mean():\n",
    "    #sum using for loops. we can use inbuilt  Numpy sum operating for better speed\n",
    "    sum =0\n",
    "    n = d.size\n",
    "    for i in range(n):\n",
    "        sum+=d[i]\n",
    "    # Mean\n",
    "    mean = sum/n\n",
    "    return mean\n",
    "\n",
    "start_time = time.time()\n",
    "m = mean() # computer mean of 100MM numbers\n",
    "end_time = time.time()\n",
    "print(end_time-start_time)\n",
    "print(m)"
   ]
  },
  {
   "cell_type": "code",
   "execution_count": null,
   "id": "5ee8ccd6-2e60-4e20-8b4d-d32f3984eca9",
   "metadata": {},
   "outputs": [],
   "source": [
    "\n",
    "\n",
    "# sql problems\n",
    "# find players who scored more than all spanish players and more than atleast one german player\n",
    "\n"
   ]
  }
 ],
 "metadata": {
  "kernelspec": {
   "display_name": "Python 3 (ipykernel)",
   "language": "python",
   "name": "python3"
  },
  "language_info": {
   "codemirror_mode": {
    "name": "ipython",
    "version": 3
   },
   "file_extension": ".py",
   "mimetype": "text/x-python",
   "name": "python",
   "nbconvert_exporter": "python",
   "pygments_lexer": "ipython3",
   "version": "3.11.5"
  }
 },
 "nbformat": 4,
 "nbformat_minor": 5
}
