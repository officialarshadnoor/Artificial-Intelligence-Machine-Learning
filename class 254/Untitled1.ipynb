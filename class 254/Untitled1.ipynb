{
 "cells": [
  {
   "cell_type": "code",
   "execution_count": 1,
   "id": "bb52af2a-9523-425b-a60c-030f343ff06f",
   "metadata": {},
   "outputs": [
    {
     "name": "stdout",
     "output_type": "stream",
     "text": [
      "Eigen values:  [1. 4.]\n",
      "Eigen vectors:  [[-0.89442719 -0.70710678]\n",
      " [ 0.4472136  -0.70710678]]\n"
     ]
    }
   ],
   "source": [
    "import numpy as np\n",
    "\n",
    "#create a matrix\n",
    "matrix = np.array([[2,2],[1,3]])\n",
    "\n",
    "# calculate eigenvalues and eighen vectors\n",
    "eigenvalues, eigenvectors = np.linalg.eig(matrix)\n",
    "\n",
    "# print result\n",
    "print('Eigen values: ',eigenvalues)\n",
    "print('Eigen vectors: ',eigenvectors)\n",
    "\n"
   ]
  },
  {
   "cell_type": "code",
   "execution_count": null,
   "id": "1a36532f-6f6e-42a5-bd48-e8fa54e8844b",
   "metadata": {},
   "outputs": [],
   "source": [
    "# read csv file\n",
    "import pandas as pd\n",
    "df = pd.read_csv('data.csv')\n",
    "\n",
    "# print the first few rows\n",
    "print(df.head())\n",
    "\n",
    "# access specific columns\n",
    "print(df['column name'])"
   ]
  },
  {
   "cell_type": "code",
   "execution_count": 2,
   "id": "1b13aee7-94e0-4848-95fb-48e11bb3291c",
   "metadata": {},
   "outputs": [
    {
     "name": "stdout",
     "output_type": "stream",
     "text": [
      "A    1\n",
      "B    1\n",
      "dtype: int64\n",
      "     A    B\n",
      "0  1.0  4.0\n",
      "1  2.0  5.0\n",
      "2  3.0  4.5\n"
     ]
    }
   ],
   "source": [
    "# \n",
    "import pandas as pd\n",
    "# create dataframe with missing values\n",
    "df = pd.DataFrame({'A':[1, None, 3], 'B': [4,5,None]})\n",
    "\n",
    "\n",
    "# check for the missing values\n",
    "print(df.isnull().sum())\n",
    "\n",
    "# handle missing values (example -  fill with the mean)\n",
    "df = df.fillna(df.mean())\n",
    "\n",
    "# print the dataframe after handling missing values\n",
    "print(df)"
   ]
  }
 ],
 "metadata": {
  "kernelspec": {
   "display_name": "Python 3 (ipykernel)",
   "language": "python",
   "name": "python3"
  },
  "language_info": {
   "codemirror_mode": {
    "name": "ipython",
    "version": 3
   },
   "file_extension": ".py",
   "mimetype": "text/x-python",
   "name": "python",
   "nbconvert_exporter": "python",
   "pygments_lexer": "ipython3",
   "version": "3.11.5"
  }
 },
 "nbformat": 4,
 "nbformat_minor": 5
}
