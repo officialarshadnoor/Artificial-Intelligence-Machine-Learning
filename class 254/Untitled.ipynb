{
 "cells": [
  {
   "cell_type": "code",
   "execution_count": 10,
   "id": "d47ddf17-d6fa-4ef6-82bc-b8647e56134d",
   "metadata": {},
   "outputs": [
    {
     "name": "stdout",
     "output_type": "stream",
     "text": [
      "derivative w.r.t.x:  6*x*y\n",
      "derivative w.r.t.x:  x**3 + 3*y**2\n"
     ]
    }
   ],
   "source": [
    "import sympy as sym\n",
    "# Declaring variables\n",
    "x,y,z = sym.symbols('x y z')\n",
    "\n",
    "#expressing of which we have to find derivative\n",
    "exp = x**3 *y + y**3 + z\n",
    "\n",
    "# deffertiating exp with respect to x\n",
    "derivative1_x = sym.diff(exp, x,2)\n",
    "\n",
    "print('derivative w.r.t.x: ',derivative1_x)\n",
    "\n",
    "#differentiating exp with respect to y\n",
    "derivative1_y = sym.diff(exp,y)\n",
    "print('derivative w.r.t.x: ',derivative1_y)"
   ]
  },
  {
   "cell_type": "code",
   "execution_count": 11,
   "id": "09f9ae95-1816-49b2-89df-81bbe0f90f4d",
   "metadata": {},
   "outputs": [
    {
     "name": "stdout",
     "output_type": "stream",
     "text": [
      "deriv w.r.t.x:  12*x**2 + 6*x*y\n",
      "deriv w.r.t.x:  3*x**2\n"
     ]
    }
   ],
   "source": [
    "x,y= sym.symbols('x y')\n",
    "exp1 = 4*x**3+3*x**2*y+5\n",
    "\n",
    "drv1 = sym.diff(exp1,x)\n",
    "drv2 = sym.diff(exp1,y)\n",
    "\n",
    "print('deriv w.r.t.x: ',drv1)\n",
    "print('deriv w.r.t.x: ',drv2)"
   ]
  },
  {
   "cell_type": "code",
   "execution_count": 12,
   "id": "90f8c35e-8eeb-4747-bc13-4bf86c22785e",
   "metadata": {},
   "outputs": [
    {
     "name": "stdout",
     "output_type": "stream",
     "text": [
      "Indefinite integral of cos(x) sin(x)\n",
      "definite integratal of cos(x) between -1 and 1:  2*sin(1)\n"
     ]
    }
   ],
   "source": [
    "integral1 = sym.integrate(sym.cos(x),x)\n",
    "print('Indefinite integral of cos(x)',integral1)\n",
    "\n",
    "#definite integration of cos(x) w.r.t. dx between -1 and 1\n",
    "integral2 = sym.integrate(sym.cos(x),(x,-1,1))\n",
    "print('definite integratal of cos(x) between -1 and 1: ',integral2)\n",
    "\n",
    "#definite "
   ]
  },
  {
   "cell_type": "code",
   "execution_count": 16,
   "id": "a648112a-99b1-40a4-b6d6-a08d544a3519",
   "metadata": {},
   "outputs": [
    {
     "name": "stdout",
     "output_type": "stream",
     "text": [
      "Mean Squared Error: 0.358\n"
     ]
    }
   ],
   "source": [
    "import sympy as sym\n",
    "import numpy as np\n",
    "def mean_squared_error(y_true, y_pred):\n",
    "    error = y_true-y_pred\n",
    "    mse = np.mean(np.square(error))\n",
    "    return mse\n",
    "\n",
    "true_values = np.array([2,4,5,4,5])\n",
    "predicted_values= np.array([1.5,3.5,4.5,5.0,5.2])\n",
    "\n",
    "mse = mean_squared_error(true_values,predicted_values)\n",
    "print(f'Mean Squared Error: {mse}')\n",
    "\n",
    "\n",
    "\n"
   ]
  }
 ],
 "metadata": {
  "kernelspec": {
   "display_name": "Python 3 (ipykernel)",
   "language": "python",
   "name": "python3"
  },
  "language_info": {
   "codemirror_mode": {
    "name": "ipython",
    "version": 3
   },
   "file_extension": ".py",
   "mimetype": "text/x-python",
   "name": "python",
   "nbconvert_exporter": "python",
   "pygments_lexer": "ipython3",
   "version": "3.11.5"
  }
 },
 "nbformat": 4,
 "nbformat_minor": 5
}
