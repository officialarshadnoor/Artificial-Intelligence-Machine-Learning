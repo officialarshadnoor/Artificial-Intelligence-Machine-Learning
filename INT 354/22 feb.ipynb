{
 "cells": [
  {
   "cell_type": "code",
   "execution_count": 7,
   "id": "fa668dc3-0b8f-4d67-8587-2d07d7f35172",
   "metadata": {},
   "outputs": [
    {
     "name": "stdout",
     "output_type": "stream",
     "text": [
      "Accuracy: 1.00\n",
      "confusion Matrix: \n",
      "[[21  0]\n",
      " [ 0 19]]\n"
     ]
    }
   ],
   "source": [
    "from sklearn.model_selection import train_test_split\n",
    "from sklearn.naive_bayes import GaussianNB\n",
    "from sklearn import metrics\n",
    "import numpy as np\n",
    "\n",
    "# generate some example data\n",
    "np.random.seed(42)\n",
    "\n",
    "# create two classes with random data\n",
    "class_1 = np.random.normal(loc=0, scale=1, size=(100,2))\n",
    "class_2 = np.random.normal(loc=3, scale=1, size=(100, 2))\n",
    "\n",
    "# print(class_1) \n",
    "\n",
    "# label the classes\n",
    "labels_1= np.zeros(100)\n",
    "labels_2 = np.ones(100)\n",
    "\n",
    "# concatenate the data and labels\n",
    "data = np.vstack((class_1, class_2))\n",
    "labels = np.concatenate((labels_1, labels_2))\n",
    "\n",
    "# split data into training and testing sets\n",
    "X_train, X_test, y_train, y_test = train_test_split(data, labels, test_size=0.2, random_state=42)\n",
    "\n",
    "# create a native bayes classifier\n",
    "classifier = GaussianNB()\n",
    "\n",
    "# train the classifier \n",
    "classifier.fit(X_train, y_train)\n",
    "\n",
    "# make predictions on the test set\n",
    "y_pred = classifier.predict(X_test)\n",
    "\n",
    "# evaluate the performance\n",
    "accuracy = metrics.accuracy_score(y_test, y_pred)\n",
    "print(f'Accuracy: {accuracy:.2f}')\n",
    "\n",
    "# confusion matrix\n",
    "conf_matrix = metrics.confusion_matrix(y_test,y_pred)\n",
    "print(\"confusion Matrix: \")\n",
    "print(conf_matrix)"
   ]
  }
 ],
 "metadata": {
  "kernelspec": {
   "display_name": "Python 3 (ipykernel)",
   "language": "python",
   "name": "python3"
  },
  "language_info": {
   "codemirror_mode": {
    "name": "ipython",
    "version": 3
   },
   "file_extension": ".py",
   "mimetype": "text/x-python",
   "name": "python",
   "nbconvert_exporter": "python",
   "pygments_lexer": "ipython3",
   "version": "3.11.5"
  }
 },
 "nbformat": 4,
 "nbformat_minor": 5
}
