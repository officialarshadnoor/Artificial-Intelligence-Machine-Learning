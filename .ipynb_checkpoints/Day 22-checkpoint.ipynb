{
 "cells": [
  {
   "cell_type": "code",
   "execution_count": 8,
   "id": "2374b807-ecd4-4913-8666-9f47781ff364",
   "metadata": {},
   "outputs": [
    {
     "name": "stdout",
     "output_type": "stream",
     "text": [
      "        city  humidity weather\n",
      "0      delhi        68    cold\n",
      "1     mumbai        65   sunny\n",
      "2  bangalore        75  normal\n"
     ]
    }
   ],
   "source": [
    "# raw string pandas\n",
    "\n",
    "import pandas as pd\n",
    "df = pd.read_csv(r'weather_merge.csv') \n",
    "\n",
    "# raw_s = r'Hi\\nHello' \n",
    "# print(raw_s) \n",
    "\n",
    "s = 'Hi\\nHello'\n",
    "print(df)"
   ]
  },
  {
   "cell_type": "code",
   "execution_count": 9,
   "id": "5e0ef114-1144-4ebe-8a24-0b9a8fba7952",
   "metadata": {},
   "outputs": [
    {
     "name": "stdout",
     "output_type": "stream",
     "text": [
      "    0   1   2   3\n",
      "0  11  12  13  14\n",
      "1  21  22  23  24\n",
      "2  31  32  33  34\n"
     ]
    }
   ],
   "source": [
    "df_test= pd.DataFrame([[11,12,13,14],[21,22,23,24],[31,32,33,34]])\n",
    "print(df_test)"
   ]
  },
  {
   "cell_type": "code",
   "execution_count": 22,
   "id": "92083531-423b-4fd5-aad9-0038b403ec82",
   "metadata": {},
   "outputs": [
    {
     "name": "stdout",
     "output_type": "stream",
     "text": [
      "        city  humidity weather\n",
      "0      delhi        68    cold\n",
      "1     mumbai        65   sunny\n",
      "2  bangalore        75  normal\n",
      "normal\n"
     ]
    }
   ],
   "source": [
    "# now save it to csv file\n",
    "# df_test = df.to_csv('new2.csv',index=False) \n",
    "\n",
    "df2 = pd.read_csv('new2.csv')\n",
    "print(df2)\n",
    "print(df2.iloc[2,2])"
   ]
  },
  {
   "cell_type": "code",
   "execution_count": 23,
   "id": "8d944ea4-d1d0-47eb-a117-de2ae0eda079",
   "metadata": {},
   "outputs": [
    {
     "name": "stdout",
     "output_type": "stream",
     "text": [
      "75\n"
     ]
    }
   ],
   "source": [
    "print(df2['humidity'].max())"
   ]
  },
  {
   "cell_type": "code",
   "execution_count": 24,
   "id": "716d89eb-d2d9-4e65-854a-61896d8daaee",
   "metadata": {},
   "outputs": [
    {
     "name": "stdout",
     "output_type": "stream",
     "text": [
      "65\n"
     ]
    }
   ],
   "source": [
    "print(df2['humidity'].min())"
   ]
  },
  {
   "cell_type": "code",
   "execution_count": 31,
   "id": "24a27bfb-753d-4c8e-84b9-fddd1f9cd00e",
   "metadata": {},
   "outputs": [
    {
     "name": "stdout",
     "output_type": "stream",
     "text": [
      "        city  humidity weather\n",
      "0      delhi        68    cold\n",
      "1     mumbai        65   sunny\n",
      "2  bangalore        75  normal\n"
     ]
    }
   ],
   "source": [
    "print(df2.iloc[:])"
   ]
  },
  {
   "cell_type": "code",
   "execution_count": null,
   "id": "b90847fd-2de8-496e-b051-c1218d3b53a0",
   "metadata": {},
   "outputs": [],
   "source": []
  }
 ],
 "metadata": {
  "kernelspec": {
   "display_name": "Python 3 (ipykernel)",
   "language": "python",
   "name": "python3"
  },
  "language_info": {
   "codemirror_mode": {
    "name": "ipython",
    "version": 3
   },
   "file_extension": ".py",
   "mimetype": "text/x-python",
   "name": "python",
   "nbconvert_exporter": "python",
   "pygments_lexer": "ipython3",
   "version": "3.11.5"
  }
 },
 "nbformat": 4,
 "nbformat_minor": 5
}
