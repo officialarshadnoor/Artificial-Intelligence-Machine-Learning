{
 "cells": [
  {
   "cell_type": "code",
   "execution_count": 1,
   "id": "5c46dce1-c75f-4c22-9c3e-953bf8685ba6",
   "metadata": {},
   "outputs": [
    {
     "name": "stdout",
     "output_type": "stream",
     "text": [
      "Hi\\nHello\n",
      "Hi\n",
      "Hello\n"
     ]
    }
   ],
   "source": [
    "# raw string pandas\n",
    "\n",
    "import pandas as pd\n",
    "# df = pd.read_csv(r'nyc_weather.csv') \n",
    "\n",
    "raw_s = r'Hi\\nHello'\n",
    "print(raw_s)\n",
    "\n",
    "s = 'Hi\\nHello'\n",
    "print(s)\n",
    "print(s)"
   ]
  }
 ],
 "metadata": {
  "kernelspec": {
   "display_name": "Python 3 (ipykernel)",
   "language": "python",
   "name": "python3"
  },
  "language_info": {
   "codemirror_mode": {
    "name": "ipython",
    "version": 3
   },
   "file_extension": ".py",
   "mimetype": "text/x-python",
   "name": "python",
   "nbconvert_exporter": "python",
   "pygments_lexer": "ipython3",
   "version": "3.11.5"
  }
 },
 "nbformat": 4,
 "nbformat_minor": 5
}
